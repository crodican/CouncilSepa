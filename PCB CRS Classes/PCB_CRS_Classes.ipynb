{
  "nbformat": 4,
  "nbformat_minor": 0,
  "metadata": {
    "colab": {
      "provenance": [],
      "authorship_tag": "ABX9TyMwJw+wGhxgWdHQ69ERQ2ws",
      "include_colab_link": true
    },
    "kernelspec": {
      "name": "python3",
      "display_name": "Python 3"
    },
    "language_info": {
      "name": "python"
    }
  },
  "cells": [
    {
      "cell_type": "markdown",
      "metadata": {
        "id": "view-in-github",
        "colab_type": "text"
      },
      "source": [
        "<a href=\"https://colab.research.google.com/github/crodican/CouncilSepa/blob/main/PCB_CRS_Classes.ipynb\" target=\"_parent\"><img src=\"https://colab.research.google.com/assets/colab-badge.svg\" alt=\"Open In Colab\"/></a>"
      ]
    },
    {
      "cell_type": "code",
      "execution_count": 1,
      "metadata": {
        "colab": {
          "base_uri": "https://localhost:8080/"
        },
        "id": "HoXWr0Yyms73",
        "outputId": "6a8540fd-7509-4689-e921-209925230db9"
      },
      "outputs": [
        {
          "output_type": "stream",
          "name": "stdout",
          "text": [
            "Requirement already satisfied: requests in /usr/local/lib/python3.10/dist-packages (2.32.3)\n",
            "Requirement already satisfied: beautifulsoup4 in /usr/local/lib/python3.10/dist-packages (4.12.3)\n",
            "Requirement already satisfied: charset-normalizer<4,>=2 in /usr/local/lib/python3.10/dist-packages (from requests) (3.4.0)\n",
            "Requirement already satisfied: idna<4,>=2.5 in /usr/local/lib/python3.10/dist-packages (from requests) (3.10)\n",
            "Requirement already satisfied: urllib3<3,>=1.21.1 in /usr/local/lib/python3.10/dist-packages (from requests) (2.2.3)\n",
            "Requirement already satisfied: certifi>=2017.4.17 in /usr/local/lib/python3.10/dist-packages (from requests) (2024.8.30)\n",
            "Requirement already satisfied: soupsieve>1.2 in /usr/local/lib/python3.10/dist-packages (from beautifulsoup4) (2.6)\n"
          ]
        }
      ],
      "source": [
        "!pip install requests beautifulsoup4"
      ]
    },
    {
      "cell_type": "code",
      "source": [
        "import requests\n",
        "from bs4 import BeautifulSoup\n",
        "import csv\n",
        "\n",
        "# Define the base URL and the range of class numbers\n",
        "base_url = \"https://www.pacertboard.org/class/recovery-specialist-\"\n",
        "class_numbers = range(201, 310)\n",
        "\n",
        "# Define the CSV file name\n",
        "csv_file = \"class_info.csv\"\n",
        "\n",
        "# Define the headers for the CSV file\n",
        "headers = [\"Class Number\", \"Instructors\", \"Dates\", \"Location\", \"Organization\"]\n",
        "\n",
        "# Open the CSV file for writing\n",
        "with open(csv_file, mode='w', newline='') as file:\n",
        "    writer = csv.writer(file)\n",
        "    writer.writerow(headers)\n",
        "\n",
        "    # Iterate over each class number\n",
        "    for class_number in class_numbers:\n",
        "        # Construct the URL\n",
        "        url = f\"{base_url}{class_number}\"\n",
        "\n",
        "        # Send a GET request to the URL\n",
        "        response = requests.get(url)\n",
        "\n",
        "        # Check if the request was successful\n",
        "        if response.status_code == 200:\n",
        "            # Parse the HTML content using BeautifulSoup\n",
        "            soup = BeautifulSoup(response.content, 'html.parser')\n",
        "\n",
        "            # Extract the instructors\n",
        "            instructors_div = soup.find(\"div\", class_=\"block block-views block-views-blockclass-instructor-block-1\")\n",
        "            instructors = \";\".join([instructor.get_text(strip=True) for instructor in instructors_div.find_all(\"div\", class_=\"field__item\")]) if instructors_div else \"\"\n",
        "\n",
        "            # Extract the dates\n",
        "            dates_div = soup.find(\"div\", class_=\"block block-layout-builder block-field-blocknodeclassfield-class-dates\")\n",
        "            dates = \" - \".join([date.get_text(strip=True) for date in dates_div.find_all(\"time\")]) if dates_div else \"\"\n",
        "\n",
        "            # Extract the location\n",
        "            location_div = soup.find(\"div\", class_=\"block block-layout-builder block-field-blocknodeclassfield-class-location\")\n",
        "            location = location_div.find(\"div\", class_=\"field__item\").get_text(strip=True) if location_div else \"\"\n",
        "\n",
        "            # Extract the organization\n",
        "            organization_div = soup.find(\"div\", class_=\"block block-layout-builder block-field-blocknodeclassfield-sponsoring-organization\")\n",
        "            organization = organization_div.find(\"div\", class_=\"field__item\").get_text(strip=True) if organization_div else \"\"\n",
        "\n",
        "            # Write the data to the CSV file\n",
        "            writer.writerow([class_number, instructors, dates, location, organization])\n",
        "        else:\n",
        "            # If the page is not found or access is denied, write only the class number\n",
        "            writer.writerow([class_number, \"\", \"\", \"\", \"\"])\n",
        "\n",
        "# Download the CSV file\n",
        "from google.colab import files\n",
        "files.download(csv_file)\n",
        "\n",
        "print(f\"Data has been successfully written to {csv_file}.\")\n"
      ],
      "metadata": {
        "colab": {
          "base_uri": "https://localhost:8080/",
          "height": 35
        },
        "id": "iL-z2GOGmvhH",
        "outputId": "97805712-ff2d-490c-b247-2e2cde1b5ff4"
      },
      "execution_count": 7,
      "outputs": [
        {
          "output_type": "display_data",
          "data": {
            "text/plain": [
              "<IPython.core.display.Javascript object>"
            ],
            "application/javascript": [
              "\n",
              "    async function download(id, filename, size) {\n",
              "      if (!google.colab.kernel.accessAllowed) {\n",
              "        return;\n",
              "      }\n",
              "      const div = document.createElement('div');\n",
              "      const label = document.createElement('label');\n",
              "      label.textContent = `Downloading \"${filename}\": `;\n",
              "      div.appendChild(label);\n",
              "      const progress = document.createElement('progress');\n",
              "      progress.max = size;\n",
              "      div.appendChild(progress);\n",
              "      document.body.appendChild(div);\n",
              "\n",
              "      const buffers = [];\n",
              "      let downloaded = 0;\n",
              "\n",
              "      const channel = await google.colab.kernel.comms.open(id);\n",
              "      // Send a message to notify the kernel that we're ready.\n",
              "      channel.send({})\n",
              "\n",
              "      for await (const message of channel.messages) {\n",
              "        // Send a message to notify the kernel that we're ready.\n",
              "        channel.send({})\n",
              "        if (message.buffers) {\n",
              "          for (const buffer of message.buffers) {\n",
              "            buffers.push(buffer);\n",
              "            downloaded += buffer.byteLength;\n",
              "            progress.value = downloaded;\n",
              "          }\n",
              "        }\n",
              "      }\n",
              "      const blob = new Blob(buffers, {type: 'application/binary'});\n",
              "      const a = document.createElement('a');\n",
              "      a.href = window.URL.createObjectURL(blob);\n",
              "      a.download = filename;\n",
              "      div.appendChild(a);\n",
              "      a.click();\n",
              "      div.remove();\n",
              "    }\n",
              "  "
            ]
          },
          "metadata": {}
        },
        {
          "output_type": "display_data",
          "data": {
            "text/plain": [
              "<IPython.core.display.Javascript object>"
            ],
            "application/javascript": [
              "download(\"download_7c98d163-62cc-4628-a42f-a40b775686bc\", \"class_info.csv\", 16565)"
            ]
          },
          "metadata": {}
        },
        {
          "output_type": "stream",
          "name": "stdout",
          "text": [
            "Data has been successfully written to class_info.csv.\n"
          ]
        }
      ]
    },
    {
      "cell_type": "code",
      "source": [
        "from google.colab import files\n",
        "\n",
        "# Download the CSV file\n",
        "files.download(csv_file)\n"
      ],
      "metadata": {
        "colab": {
          "base_uri": "https://localhost:8080/",
          "height": 17
        },
        "id": "SZYLJqXOpgC3",
        "outputId": "42166bff-888b-475f-f0a0-8fbad2ec8371"
      },
      "execution_count": 6,
      "outputs": [
        {
          "output_type": "display_data",
          "data": {
            "text/plain": [
              "<IPython.core.display.Javascript object>"
            ],
            "application/javascript": [
              "\n",
              "    async function download(id, filename, size) {\n",
              "      if (!google.colab.kernel.accessAllowed) {\n",
              "        return;\n",
              "      }\n",
              "      const div = document.createElement('div');\n",
              "      const label = document.createElement('label');\n",
              "      label.textContent = `Downloading \"${filename}\": `;\n",
              "      div.appendChild(label);\n",
              "      const progress = document.createElement('progress');\n",
              "      progress.max = size;\n",
              "      div.appendChild(progress);\n",
              "      document.body.appendChild(div);\n",
              "\n",
              "      const buffers = [];\n",
              "      let downloaded = 0;\n",
              "\n",
              "      const channel = await google.colab.kernel.comms.open(id);\n",
              "      // Send a message to notify the kernel that we're ready.\n",
              "      channel.send({})\n",
              "\n",
              "      for await (const message of channel.messages) {\n",
              "        // Send a message to notify the kernel that we're ready.\n",
              "        channel.send({})\n",
              "        if (message.buffers) {\n",
              "          for (const buffer of message.buffers) {\n",
              "            buffers.push(buffer);\n",
              "            downloaded += buffer.byteLength;\n",
              "            progress.value = downloaded;\n",
              "          }\n",
              "        }\n",
              "      }\n",
              "      const blob = new Blob(buffers, {type: 'application/binary'});\n",
              "      const a = document.createElement('a');\n",
              "      a.href = window.URL.createObjectURL(blob);\n",
              "      a.download = filename;\n",
              "      div.appendChild(a);\n",
              "      a.click();\n",
              "      div.remove();\n",
              "    }\n",
              "  "
            ]
          },
          "metadata": {}
        },
        {
          "output_type": "display_data",
          "data": {
            "text/plain": [
              "<IPython.core.display.Javascript object>"
            ],
            "application/javascript": [
              "download(\"download_e052d528-79f4-4909-86c3-3df888b69bec\", \"class_info.csv\", 17889)"
            ]
          },
          "metadata": {}
        }
      ]
    }
  ]
}